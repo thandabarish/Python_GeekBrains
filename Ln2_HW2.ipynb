{
  "nbformat": 4,
  "nbformat_minor": 0,
  "metadata": {
    "colab": {
      "name": "Ln2_HW2.ipynb",
      "version": "0.3.2",
      "provenance": [],
      "collapsed_sections": [],
      "include_colab_link": true
    },
    "kernelspec": {
      "name": "python3",
      "display_name": "Python 3"
    }
  },
  "cells": [
    {
      "cell_type": "markdown",
      "metadata": {
        "id": "view-in-github",
        "colab_type": "text"
      },
      "source": [
        "<a href=\"https://colab.research.google.com/github/thandabarish/Python_GeekBrains/blob/master/Ln2_HW2.ipynb\" target=\"_parent\"><img src=\"https://colab.research.google.com/assets/colab-badge.svg\" alt=\"Open In Colab\"/></a>"
      ]
    },
    {
      "cell_type": "markdown",
      "metadata": {
        "id": "tbot4Pd4n-fa",
        "colab_type": "text"
      },
      "source": [
        "**Задание 1. Easy**"
      ]
    },
    {
      "cell_type": "code",
      "metadata": {
        "id": "dze3ADz9aFOO",
        "colab_type": "code",
        "colab": {}
      },
      "source": [
        "# Задача-1:\n",
        "# Дан список фруктов.\n",
        "# Напишите программу, выводящую фрукты в виде нумерованного списка,\n",
        "# выровненного по правой стороне.\n",
        "\n",
        "# Пример:\n",
        "# Дано: [\"яблоко\", \"банан\", \"киви\", \"арбуз\"]\n",
        "# Вывод:\n",
        "# 1. яблоко\n",
        "# 2.  банан\n",
        "# 3.   киви\n",
        "# 4.  арбуз\n",
        "\n",
        "# Подсказка: воспользоваться методом .format()"
      ],
      "execution_count": 0,
      "outputs": []
    },
    {
      "cell_type": "code",
      "metadata": {
        "id": "5_4gSgNrSlMd",
        "colab_type": "code",
        "outputId": "64747d3b-4411-4a09-a21e-8d98ed730460",
        "colab": {
          "base_uri": "https://localhost:8080/",
          "height": 107
        }
      },
      "source": [
        "fruits = ['яблоко', 'груша', 'киви', 'банан', 'виноград']\n",
        "for number, word in enumerate(fruits, 1):\n",
        "  print('{}. {:>8}'.format(number, word))"
      ],
      "execution_count": 0,
      "outputs": [
        {
          "output_type": "stream",
          "text": [
            "1.   яблоко\n",
            "2.    груша\n",
            "3.     киви\n",
            "4.    банан\n",
            "5. виноград\n"
          ],
          "name": "stdout"
        }
      ]
    },
    {
      "cell_type": "code",
      "metadata": {
        "id": "zv2RBZKhaQoH",
        "colab_type": "code",
        "colab": {}
      },
      "source": [
        "# Задача-2:\n",
        "# Даны два произвольные списка.\n",
        "# Удалите из первого списка элементы, присутствующие во втором списке."
      ],
      "execution_count": 0,
      "outputs": []
    },
    {
      "cell_type": "code",
      "metadata": {
        "id": "7yh-4qPZUxUP",
        "colab_type": "code",
        "outputId": "6aae906c-4ee8-4bda-b784-b89e8e2ebd04",
        "colab": {
          "base_uri": "https://localhost:8080/",
          "height": 34
        }
      },
      "source": [
        "list1 = set(['яблоко', 'груша', 'киви', 'банан', 'виноград'])\n",
        "list2 = set(['арбуз', 'груша', 'дыня', 'банан', 'апельсин'])\n",
        "print(list1-list2)"
      ],
      "execution_count": 0,
      "outputs": [
        {
          "output_type": "stream",
          "text": [
            "{'киви', 'яблоко', 'виноград'}\n"
          ],
          "name": "stdout"
        }
      ]
    },
    {
      "cell_type": "code",
      "metadata": {
        "id": "__NiuX9KapWE",
        "colab_type": "code",
        "colab": {}
      },
      "source": [
        "# Задача-3:\n",
        "# Дан произвольный список из целых чисел.\n",
        "# Получите НОВЫЙ список из элементов исходного, выполнив следующие условия:\n",
        "# если элемент кратен двум, то разделить его на 4, если не кратен, то умножить на два."
      ],
      "execution_count": 0,
      "outputs": []
    },
    {
      "cell_type": "code",
      "metadata": {
        "id": "HPU_Dc1UsEl6",
        "colab_type": "code",
        "outputId": "b7fb1b2f-e939-49a3-e0d7-8cb5b9e82fa0",
        "colab": {
          "base_uri": "https://localhost:8080/",
          "height": 35
        }
      },
      "source": [
        "numbers = [12, 34, 67, 9, 45, 17, 22]\n",
        "newList = []\n",
        "for number in numbers:\n",
        "  if number%2 == 0:\n",
        "     newList.append(number / 4)\n",
        "  else:\n",
        "     newList.append(number * 2)\n",
        "print(newList)"
      ],
      "execution_count": 0,
      "outputs": [
        {
          "output_type": "stream",
          "text": [
            "[3.0, 8.5, 134, 18, 90, 34, 5.5]\n"
          ],
          "name": "stdout"
        }
      ]
    },
    {
      "cell_type": "markdown",
      "metadata": {
        "id": "TUOLAaDSdqH1",
        "colab_type": "text"
      },
      "source": [
        "**Задание 2. Normal**"
      ]
    },
    {
      "cell_type": "code",
      "metadata": {
        "id": "YEOsHiifa5-W",
        "colab_type": "code",
        "colab": {}
      },
      "source": [
        "# Задача-1:\n",
        "# Дан список, заполненный произвольными целыми числами, получите новый список,\n",
        "# элементами которого будут квадратные корни элементов исходного списка,\n",
        "# но только если результаты извлечения корня не имеют десятичной части и\n",
        "# если такой корень вообще можно извлечь\n",
        "# Пример: Дано: [2, -5, 8, 9, -25, 25, 4]   Результат: [3, 5, 2]"
      ],
      "execution_count": 0,
      "outputs": []
    },
    {
      "cell_type": "code",
      "metadata": {
        "id": "b2r1IECRdz38",
        "colab_type": "code",
        "outputId": "590af1da-dc94-45c1-bbc3-dc8b32e08db1",
        "colab": {
          "base_uri": "https://localhost:8080/",
          "height": 35
        }
      },
      "source": [
        "numbers = [12, 25, 4, 15, 64, 100]\n",
        "newList = []\n",
        "for number in numbers:\n",
        "  if (number ** (0.5)).is_integer():\n",
        "    newList.append(number ** (0.5))\n",
        "print(newList)"
      ],
      "execution_count": 0,
      "outputs": [
        {
          "output_type": "stream",
          "text": [
            "[5.0, 2.0, 8.0, 10.0]\n"
          ],
          "name": "stdout"
        }
      ]
    },
    {
      "cell_type": "code",
      "metadata": {
        "id": "rvcGIeqQbOrP",
        "colab_type": "code",
        "colab": {}
      },
      "source": [
        "# Задача-2: Дана дата в формате dd.mm.yyyy, например: 02.11.2013.\n",
        "# Ваша задача вывести дату в текстовом виде, например: второе ноября 2013 года.\n",
        "# Склонением пренебречь (2000 года, 2010 года)"
      ],
      "execution_count": 0,
      "outputs": []
    },
    {
      "cell_type": "code",
      "metadata": {
        "id": "FSZYcpl06qNy",
        "colab_type": "code",
        "outputId": "c949be20-fd0a-4c77-d805-aba3cd4f73b1",
        "colab": {
          "base_uri": "https://localhost:8080/",
          "height": 33
        }
      },
      "source": [
        "import datetime\n",
        "dt = str(datetime.date.today())\n",
        "year, month, day = dt.split('-')\n",
        "day = int(day)\n",
        "month = int(month)\n",
        "\n",
        "months = ('', 'января', 'февраля', 'марта', 'апреля', 'мая', 'июня', 'июля', 'августа', 'сентября', 'октября', 'ноября',\n",
        "          'декабря')\n",
        "days = ('', 'первое', 'второе', 'третье', 'четвертое', 'пятое', 'шестое', 'седьмое', 'восьмое', 'девятое', 'десятое',\n",
        "        'одиннадцатое', 'двенадцатое', 'тринадцатое', 'четырнадцатое', 'пятнадцатое', 'шестнадцатое', 'семнадцатое',\n",
        "        'восемнадцатое', 'девятнадцатое', 'двадцатое', 'двадцать первое', 'двадцать второе', 'двадцать третье',\n",
        "        'двадцать чертвертое', 'двадцать пятое', 'двадцать шестое', 'двадцать седьмое', 'двадцать восьмое',\n",
        "        'двадцать девятое', 'тридцатое', 'тридцать первое')\n",
        "\n",
        "print(days[day], months[month], year, 'года')"
      ],
      "execution_count": 7,
      "outputs": [
        {
          "output_type": "stream",
          "text": [
            "восемнадцатое августа 2019 года\n"
          ],
          "name": "stdout"
        }
      ]
    },
    {
      "cell_type": "code",
      "metadata": {
        "id": "pzrHF1eKg4T4",
        "colab_type": "code",
        "colab": {}
      },
      "source": [
        "# Задача-3: Напишите алгоритм, заполняющий список произвольными целыми числами\n",
        "# в диапазоне от -100 до 100. В списке должно быть n - элементов.\n",
        "# Подсказка:\n",
        "# для получения случайного числа используйте функцию randint() модуля random"
      ],
      "execution_count": 0,
      "outputs": []
    },
    {
      "cell_type": "code",
      "metadata": {
        "id": "hGEWLeDNDBVq",
        "colab_type": "code",
        "outputId": "46dc3c74-88ad-4ac0-b5d0-c755b52a0cb1",
        "colab": {
          "base_uri": "https://localhost:8080/",
          "height": 57
        }
      },
      "source": [
        "import random\n",
        "n = int(input('Введите целое число, сколько элементов нужно в списке: '))\n",
        "numbers = []\n",
        "for i in range(n):\n",
        "  numbers.append(random.randint(-100, 100))\n",
        "print(numbers)"
      ],
      "execution_count": 0,
      "outputs": [
        {
          "output_type": "stream",
          "text": [
            "Введите целое число, сколько элементов нужно в списке: 10\n",
            "[-2, -44, 26, 7, 53, 38, 57, -58, 47, -67]\n"
          ],
          "name": "stdout"
        }
      ]
    },
    {
      "cell_type": "code",
      "metadata": {
        "id": "aRfbM1Fbg-wV",
        "colab_type": "code",
        "colab": {}
      },
      "source": [
        "# Задача-4: Дан список, заполненный произвольными целыми числами.\n",
        "# Получите новый список, элементами которого будут: \n",
        "# а) неповторяющиеся элементы исходного списка:\n",
        "# например, lst = [1, 2, 4, 5, 6, 2, 5, 2], нужно получить lst2 = [1, 2, 4, 5, 6]\n",
        "# б) элементы исходного списка, которые не имеют повторений:\n",
        "# например, lst = [1 , 2, 4, 5, 6, 2, 5, 2], нужно получить lst2 = [1, 4, 6]"
      ],
      "execution_count": 0,
      "outputs": []
    },
    {
      "cell_type": "code",
      "metadata": {
        "id": "u5dRrvMjJ5xC",
        "colab_type": "code",
        "outputId": "6fee8d89-1b4a-41cc-8a6e-f56b948d89dc",
        "colab": {
          "base_uri": "https://localhost:8080/",
          "height": 50
        }
      },
      "source": [
        "numbers = [20, 94, 72, 22, 67, 20, 72, 50]\n",
        "\n",
        "list1 = list(set(numbers))\n",
        "\n",
        "list2 = list()\n",
        "for number in numbers:\n",
        "  if numbers.count(number) == 1:\n",
        "    list2.append(number)\n",
        "print(list1)\n",
        "print(list2)"
      ],
      "execution_count": 12,
      "outputs": [
        {
          "output_type": "stream",
          "text": [
            "[67, 72, 50, 20, 22, 94]\n",
            "[94, 22, 67, 50]\n"
          ],
          "name": "stdout"
        }
      ]
    },
    {
      "cell_type": "markdown",
      "metadata": {
        "id": "AtsNqIpAloPK",
        "colab_type": "text"
      },
      "source": [
        "**Задание 3. Hard.**"
      ]
    },
    {
      "cell_type": "code",
      "metadata": {
        "id": "C4S5cSqah8dv",
        "colab_type": "code",
        "colab": {}
      },
      "source": [
        "# Задание-1: уравнение прямой вида y = kx + b задано в виде строки.\n",
        "# Определить координату y точки с заданной координатой x.\n",
        "\n",
        "equation = 'y = -12x + 11111140.2121'\n",
        "x = 2.5\n",
        "# вычислите и выведите y"
      ],
      "execution_count": 0,
      "outputs": []
    },
    {
      "cell_type": "code",
      "metadata": {
        "id": "Y3d9dzLnsyxV",
        "colab_type": "code",
        "colab": {
          "base_uri": "https://localhost:8080/",
          "height": 33
        },
        "outputId": "658aa8b4-e38b-44a6-f8be-4a18af9fa878"
      },
      "source": [
        "equation = 'y = -12x + 11111140.2121'\n",
        "x = 2.5\n",
        "\n",
        "temp = equation.split(' ')\n",
        "number_x = float(temp[2].replace('x', '')) * x\n",
        "\n",
        "y = number_x + float(11111140.2121)\n",
        "print(y)"
      ],
      "execution_count": 36,
      "outputs": [
        {
          "output_type": "stream",
          "text": [
            "11111110.2121\n"
          ],
          "name": "stdout"
        }
      ]
    },
    {
      "cell_type": "code",
      "metadata": {
        "id": "6enL0j_4v5Lb",
        "colab_type": "code",
        "colab": {}
      },
      "source": [
        "# Задание-2: Дата задана в виде строки формата 'dd.mm.yyyy'.\n",
        "# Проверить, корректно ли введена дата.\n",
        "# Условия корректности:\n",
        "# 1. День должен приводиться к целому числу в диапазоне от 1 до 30(31)\n",
        "#  (в зависимости от месяца, февраль не учитываем)\n",
        "# 2. Месяц должен приводиться к целому числу в диапазоне от 1 до 12\n",
        "# 3. Год должен приводиться к целому положительному числу в диапазоне от 1 до 9999\n",
        "# 4. Длина исходной строки для частей должна быть в соответствии с форматом \n",
        "#  (т.е. 2 символа для дня, 2 - для месяца, 4 - для года)\n",
        "\n",
        "# Пример корректной даты\n",
        "date = '01.11.1985'\n",
        "\n",
        "# Примеры некорректных дат\n",
        "date = '01.22.1001'\n",
        "date = '1.12.1001'\n",
        "date = '-2.10.3001'\n"
      ],
      "execution_count": 0,
      "outputs": []
    },
    {
      "cell_type": "code",
      "metadata": {
        "id": "scu10kry1b4o",
        "colab_type": "code",
        "colab": {
          "base_uri": "https://localhost:8080/",
          "height": 33
        },
        "outputId": "5abf9920-7521-4ce3-bb46-f4498b1424d5"
      },
      "source": [
        "dt = '18.07.2019'\n",
        "day, month, year = dt.split('.')\n",
        "\n",
        "days_by_months = (31, 28, 31, 30, 31, 30, 31, 31, 30, 31, 30, 31)\n",
        "\n",
        "if len(day) == 2 and len(month) == 2 and len(year) == 4:\n",
        "    day = int(day)\n",
        "    month = int(month)\n",
        "    year = int(year)\n",
        "    \n",
        "    if 0 < day <= days_by_months[int(month)] and 0 < month < 12 and 0 < year < 9999:\n",
        "      print('Дата корректна') \n",
        "    else:\n",
        "      print('Дата некорректна')\n",
        "else:\n",
        "  print('Дата не полностью корректна')\n"
      ],
      "execution_count": 45,
      "outputs": [
        {
          "output_type": "stream",
          "text": [
            "Дата корректна\n"
          ],
          "name": "stdout"
        }
      ]
    },
    {
      "cell_type": "code",
      "metadata": {
        "id": "V9zw79M51cSn",
        "colab_type": "code",
        "colab": {}
      },
      "source": [
        "# Задание-3: \"Перевёрнутая башня\" (Задача олимпиадного уровня)\n",
        "#\n",
        "# Вавилонцы решили построить удивительную башню —\n",
        "# расширяющуюся к верху и содержащую бесконечное число этажей и комнат.\n",
        "# Она устроена следующим образом — на первом этаже одна комната,\n",
        "# затем идет два этажа, на каждом из которых по две комнаты, \n",
        "# затем идёт три этажа, на каждом из которых по три комнаты и так далее:\n",
        "#         ...\n",
        "#     12  13  14\n",
        "#     9   10  11\n",
        "#     6   7   8\n",
        "#       4   5\n",
        "#       2   3\n",
        "#         1\n",
        "#\n",
        "# Эту башню решили оборудовать лифтом --- и вот задача:\n",
        "# нужно научиться по номеру комнаты определять,\n",
        "# на каком этаже она находится и какая она по счету слева на этом этаже.\n",
        "#\n",
        "# Входные данные: В первой строчке задан номер комнаты N, 1 ≤ N ≤ 2 000 000 000.\n",
        "#\n",
        "# Выходные данные:  Два целых числа — номер этажа и порядковый номер слева на этаже.\n",
        "#\n",
        "# Пример:\n",
        "# Вход: 13\n",
        "# Выход: 6 2\n",
        "#\n",
        "# Вход: 11\n",
        "# Выход: 5 3"
      ],
      "execution_count": 0,
      "outputs": []
    },
    {
      "cell_type": "code",
      "metadata": {
        "id": "1ofJuRmD1cn9",
        "colab_type": "code",
        "colab": {}
      },
      "source": [
        "#Эта задача мне пока не по зубам оказалась :("
      ],
      "execution_count": 0,
      "outputs": []
    }
  ]
}