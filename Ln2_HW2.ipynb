{
  "nbformat": 4,
  "nbformat_minor": 0,
  "metadata": {
    "colab": {
      "name": "Ln2_HW2.ipynb",
      "version": "0.3.2",
      "provenance": [],
      "collapsed_sections": [],
      "include_colab_link": true
    },
    "kernelspec": {
      "name": "python3",
      "display_name": "Python 3"
    }
  },
  "cells": [
    {
      "cell_type": "markdown",
      "metadata": {
        "id": "view-in-github",
        "colab_type": "text"
      },
      "source": [
        "<a href=\"https://colab.research.google.com/github/thandabarish/Python_GeekBrains/blob/master/Ln2_HW2.ipynb\" target=\"_parent\"><img src=\"https://colab.research.google.com/assets/colab-badge.svg\" alt=\"Open In Colab\"/></a>"
      ]
    },
    {
      "cell_type": "markdown",
      "metadata": {
        "id": "tbot4Pd4n-fa",
        "colab_type": "text"
      },
      "source": [
        "**Задание 1. Easy**"
      ]
    },
    {
      "cell_type": "code",
      "metadata": {
        "id": "5_4gSgNrSlMd",
        "colab_type": "code",
        "outputId": "64747d3b-4411-4a09-a21e-8d98ed730460",
        "colab": {
          "base_uri": "https://localhost:8080/",
          "height": 107
        }
      },
      "source": [
        "fruits = ['яблоко', 'груша', 'киви', 'банан', 'виноград']\n",
        "for number, word in enumerate(fruits, 1):\n",
        "  print('{}. {:>8}'.format(number, word))"
      ],
      "execution_count": 0,
      "outputs": [
        {
          "output_type": "stream",
          "text": [
            "1.   яблоко\n",
            "2.    груша\n",
            "3.     киви\n",
            "4.    банан\n",
            "5. виноград\n"
          ],
          "name": "stdout"
        }
      ]
    },
    {
      "cell_type": "code",
      "metadata": {
        "id": "7yh-4qPZUxUP",
        "colab_type": "code",
        "outputId": "6aae906c-4ee8-4bda-b784-b89e8e2ebd04",
        "colab": {
          "base_uri": "https://localhost:8080/",
          "height": 34
        }
      },
      "source": [
        "list1 = set(['яблоко', 'груша', 'киви', 'банан', 'виноград'])\n",
        "list2 = set(['арбуз', 'груша', 'дыня', 'банан', 'апельсин'])\n",
        "print(list1-list2)"
      ],
      "execution_count": 0,
      "outputs": [
        {
          "output_type": "stream",
          "text": [
            "{'киви', 'яблоко', 'виноград'}\n"
          ],
          "name": "stdout"
        }
      ]
    },
    {
      "cell_type": "code",
      "metadata": {
        "id": "HPU_Dc1UsEl6",
        "colab_type": "code",
        "outputId": "b7fb1b2f-e939-49a3-e0d7-8cb5b9e82fa0",
        "colab": {
          "base_uri": "https://localhost:8080/",
          "height": 35
        }
      },
      "source": [
        "numbers = [12, 34, 67, 9, 45, 17, 22]\n",
        "newList = []\n",
        "for number in numbers:\n",
        "  if number%2 == 0:\n",
        "     newList.append(number / 4)\n",
        "  else:\n",
        "     newList.append(number * 2)\n",
        "print(newList)"
      ],
      "execution_count": 0,
      "outputs": [
        {
          "output_type": "stream",
          "text": [
            "[3.0, 8.5, 134, 18, 90, 34, 5.5]\n"
          ],
          "name": "stdout"
        }
      ]
    },
    {
      "cell_type": "markdown",
      "metadata": {
        "id": "TUOLAaDSdqH1",
        "colab_type": "text"
      },
      "source": [
        "**Задание 2. Normal**"
      ]
    },
    {
      "cell_type": "code",
      "metadata": {
        "id": "b2r1IECRdz38",
        "colab_type": "code",
        "outputId": "590af1da-dc94-45c1-bbc3-dc8b32e08db1",
        "colab": {
          "base_uri": "https://localhost:8080/",
          "height": 35
        }
      },
      "source": [
        "numbers = [12, 25, 4, 15, 64, 100]\n",
        "newList = []\n",
        "for number in numbers:\n",
        "  if (number ** (0.5)).is_integer():\n",
        "    newList.append(number ** (0.5))\n",
        "print(newList)"
      ],
      "execution_count": 0,
      "outputs": [
        {
          "output_type": "stream",
          "text": [
            "[5.0, 2.0, 8.0, 10.0]\n"
          ],
          "name": "stdout"
        }
      ]
    },
    {
      "cell_type": "code",
      "metadata": {
        "id": "FSZYcpl06qNy",
        "colab_type": "code",
        "outputId": "2042114f-2f66-49de-b277-bcfc12feb157",
        "colab": {
          "base_uri": "https://localhost:8080/",
          "height": 35
        }
      },
      "source": [
        "import datetime\n",
        "dt = datetime.date.today()\n",
        "print(dt.strftime('%d %B %Y года'))"
      ],
      "execution_count": 0,
      "outputs": [
        {
          "output_type": "stream",
          "text": [
            "05 July 2019 года\n"
          ],
          "name": "stdout"
        }
      ]
    },
    {
      "cell_type": "code",
      "metadata": {
        "id": "hGEWLeDNDBVq",
        "colab_type": "code",
        "outputId": "46dc3c74-88ad-4ac0-b5d0-c755b52a0cb1",
        "colab": {
          "base_uri": "https://localhost:8080/",
          "height": 57
        }
      },
      "source": [
        "import random\n",
        "n = int(input('Введите целое число, сколько элементов нужно в списке: '))\n",
        "numbers = []\n",
        "for i in range(n):\n",
        "  numbers.append(random.randint(-100, 100))\n",
        "print(numbers)"
      ],
      "execution_count": 0,
      "outputs": [
        {
          "output_type": "stream",
          "text": [
            "Введите целое число, сколько элементов нужно в списке: 10\n",
            "[-2, -44, 26, 7, 53, 38, 57, -58, 47, -67]\n"
          ],
          "name": "stdout"
        }
      ]
    },
    {
      "cell_type": "code",
      "metadata": {
        "id": "u5dRrvMjJ5xC",
        "colab_type": "code",
        "outputId": "65effe38-c04c-4a72-8c9d-1c4df578f94b",
        "colab": {
          "base_uri": "https://localhost:8080/",
          "height": 53
        }
      },
      "source": [
        "#не смогла доделать второй пункт\n",
        "numbers = [20, 94, 72, 22, 67, 20, 72, 50]\n",
        "from collections import Counter\n",
        "list1 = set(numbers)\n",
        "list2 = []\n",
        "if number in Counter(numbers) == 1:\n",
        "  number.append(list2)\n",
        "print(list1)\n",
        "print(list2)"
      ],
      "execution_count": 117,
      "outputs": [
        {
          "output_type": "stream",
          "text": [
            "{67, 72, 50, 20, 22, 94}\n",
            "[]\n"
          ],
          "name": "stdout"
        }
      ]
    }
  ]
}