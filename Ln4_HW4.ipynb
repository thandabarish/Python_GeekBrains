{
  "nbformat": 4,
  "nbformat_minor": 0,
  "metadata": {
    "colab": {
      "name": "Ln4_HW4.ipynb",
      "version": "0.3.2",
      "provenance": [],
      "collapsed_sections": [],
      "include_colab_link": true
    },
    "kernelspec": {
      "name": "python3",
      "display_name": "Python 3"
    }
  },
  "cells": [
    {
      "cell_type": "markdown",
      "metadata": {
        "id": "view-in-github",
        "colab_type": "text"
      },
      "source": [
        "<a href=\"https://colab.research.google.com/github/thandabarish/Python_GeekBrains/blob/master/Ln4_HW4.ipynb\" target=\"_parent\"><img src=\"https://colab.research.google.com/assets/colab-badge.svg\" alt=\"Open In Colab\"/></a>"
      ]
    },
    {
      "cell_type": "markdown",
      "metadata": {
        "id": "ZTNhVTQRAs2G",
        "colab_type": "text"
      },
      "source": [
        "**Задание 1. Easy.**"
      ]
    },
    {
      "cell_type": "code",
      "metadata": {
        "id": "ID6ly97QAl41",
        "colab_type": "code",
        "outputId": "17c097fa-45c7-4e7b-d3da-a9246eedc895",
        "colab": {
          "base_uri": "https://localhost:8080/",
          "height": 68
        }
      },
      "source": [
        "import random\n",
        "n = int(input('Введите целое число, сколько элементов нужно в списке: '))\n",
        "#numbers = []\n",
        "#for i in range(n):\n",
        "#  numbers.append(random.randint(0, 100))\n",
        "numbers = [random.randint(0, 100) for _ in range(n)] \n",
        "  \n",
        "numbers2 = [i**2 for i in numbers.copy()]\n",
        "\n",
        "print(numbers)\n",
        "print(numbers2)"
      ],
      "execution_count": 1,
      "outputs": [
        {
          "output_type": "stream",
          "text": [
            "Введите целое число, сколько элементов нужно в списке: 10\n",
            "[35, 70, 62, 29, 24, 37, 17, 98, 21, 36]\n",
            "[1225, 4900, 3844, 841, 576, 1369, 289, 9604, 441, 1296]\n"
          ],
          "name": "stdout"
        }
      ]
    },
    {
      "cell_type": "code",
      "metadata": {
        "id": "JF6ckB5YDtkZ",
        "colab_type": "code",
        "outputId": "b1fc94ba-1001-4881-ed8d-ffedc6cadc79",
        "colab": {
          "base_uri": "https://localhost:8080/",
          "height": 33
        }
      },
      "source": [
        "fruits1 = ['apple', 'orange', 'pear', 'grape', 'banana']\n",
        "fruits2 = ['peach', 'orange', 'pear', 'grape', 'cherry']\n",
        "\n",
        "overlap = list(set(fruits1) & set(fruits2))\n",
        "\n",
        "print(overlap)"
      ],
      "execution_count": 0,
      "outputs": [
        {
          "output_type": "stream",
          "text": [
            "['grape', 'orange', 'pear']\n"
          ],
          "name": "stdout"
        }
      ]
    },
    {
      "cell_type": "code",
      "metadata": {
        "id": "zJutoNwZGVs8",
        "colab_type": "code",
        "outputId": "04d5a201-1609-4712-9777-5b12d48df712",
        "colab": {
          "base_uri": "https://localhost:8080/",
          "height": 68
        }
      },
      "source": [
        "import random\n",
        "n = int(input('Введите целое число, сколько элементов нужно в списке: '))\n",
        "numbers = [random.randint(-100, 100) for _ in range(n)]\n",
        "  \n",
        "numbers2 = [i for i in numbers if i > 0 and i %3 == 0 and i %4 != 0]\n",
        "\n",
        "print(numbers)\n",
        "print(numbers2)"
      ],
      "execution_count": 2,
      "outputs": [
        {
          "output_type": "stream",
          "text": [
            "Введите целое число, сколько элементов нужно в списке: 10\n",
            "[-75, -34, 3, 9, 39, 27, 17, -31, -15, -50]\n",
            "[3, 9, 39, 27]\n"
          ],
          "name": "stdout"
        }
      ]
    },
    {
      "cell_type": "markdown",
      "metadata": {
        "id": "uzEsPpqF_Q64",
        "colab_type": "text"
      },
      "source": [
        "**Задание 2. Normal**"
      ]
    },
    {
      "cell_type": "code",
      "metadata": {
        "id": "cfOI82YDJGZC",
        "colab_type": "code",
        "colab": {}
      },
      "source": [
        "#Не сообразила здесь, как сделать :(\n",
        "name = input('Введите ваше имя')\n",
        "surname = input('Введите вашу фамилию')\n",
        "email = input('Введите ваши e-mail')\n",
        "\n",
        "import re\n",
        "pattern = '\\D[a-zA-Zа-яА-ЯёЁ]+'\n",
        "print(re.match(, name, surname) for )"
      ],
      "execution_count": 0,
      "outputs": []
    },
    {
      "cell_type": "code",
      "metadata": {
        "id": "kPR7YpNoeZTE",
        "colab_type": "code",
        "colab": {
          "base_uri": "https://localhost:8080/",
          "height": 34
        },
        "outputId": "4e78aa1e-180d-4bc3-d1cc-8248b4a0187a"
      },
      "source": [
        "some_str = '''\n",
        "    Мороз и солнце; день чудесный!\n",
        "    Еще ты дремлешь, друг прелестный —\n",
        "    Пора, красавица, проснись:\n",
        "    Открой сомкнуты негой взоры\n",
        "    Навстречу северной Авроры,\n",
        "    Звездою севера явись!\n",
        "    Вечор, ты помнишь, вьюга злилась,\n",
        "    На мутном небе мгла носилась;\n",
        "    Луна, как бледное пятно,\n",
        "    Сквозь тучи мрачные желтела,\n",
        "    И ты печальная сидела —\n",
        "    А нынче... погляди в окно:\n",
        "    Под голубыми небесами\n",
        "    Великолепными коврами,\n",
        "    Блестя на солнце, снег лежит;\n",
        "    Прозрачный лес один чернеет,\n",
        "    И ель сквозь иней зеленеет,\n",
        "    И речка подо льдом блестит.\n",
        "    Вся комната янтарным блеском\n",
        "    Озарена. Веселым треском\n",
        "    Трещит затопленная печь.\n",
        "    Приятно думать у лежанки.\n",
        "    Но знаешь: не велеть ли в санки\n",
        "    Кобылку бурую запречь?\n",
        "    Скользя по утреннему снегу,\n",
        "    Друг милый, предадимся бегу\n",
        "    Нетерпеливого коня\n",
        "    И навестим поля пустые,\n",
        "    Леса, недавно столь густые,\n",
        "    И берег, милый для меня.'''\n",
        "import re\n",
        "pattern = '[.]{2,}'\n",
        "found = re.findall(pattern, some_str)\n",
        "\n",
        "if found:\n",
        "  print('{} в тексте найден'.format(found))\n",
        "else:\n",
        "  print('{} в тексте не найден'.format(found))"
      ],
      "execution_count": 19,
      "outputs": [
        {
          "output_type": "stream",
          "text": [
            "['...'] в тексте найден\n"
          ],
          "name": "stdout"
        }
      ]
    }
  ]
}