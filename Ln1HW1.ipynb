{
  "nbformat": 4,
  "nbformat_minor": 0,
  "metadata": {
    "colab": {
      "name": "Ln1HW1.ipynb",
      "version": "0.3.2",
      "provenance": [],
      "collapsed_sections": [],
      "include_colab_link": true
    },
    "kernelspec": {
      "name": "python3",
      "display_name": "Python 3"
    }
  },
  "cells": [
    {
      "cell_type": "markdown",
      "metadata": {
        "id": "view-in-github",
        "colab_type": "text"
      },
      "source": [
        "<a href=\"https://colab.research.google.com/github/thandabarish/Python_GeekBrains/blob/master/Ln1HW1.ipynb\" target=\"_parent\"><img src=\"https://colab.research.google.com/assets/colab-badge.svg\" alt=\"Open In Colab\"/></a>"
      ]
    },
    {
      "cell_type": "markdown",
      "metadata": {
        "id": "vUWeTUg_WtEx",
        "colab_type": "text"
      },
      "source": [
        "__author__ = 'Neznanova Nina.'"
      ]
    },
    {
      "cell_type": "markdown",
      "metadata": {
        "id": "dv0UXDba32Mc",
        "colab_type": "text"
      },
      "source": [
        "**Задание 1. Easy.**"
      ]
    },
    {
      "cell_type": "code",
      "metadata": {
        "id": "8fvDuKcHXK11",
        "colab_type": "code",
        "colab": {}
      },
      "source": [
        "# Задача-1: Дано произвольное целое число (число заранее неизвестно).\n",
        "# Вывести поочередно цифры исходного числа (порядок вывода цифр неважен).\n",
        "# Подсказки:\n",
        "# * постарайтесь решить задачу с применением арифметики и цикла while;\n",
        "# * при желании решите задачу с применением цикла for."
      ],
      "execution_count": 0,
      "outputs": []
    },
    {
      "cell_type": "code",
      "metadata": {
        "id": "tc_BsrQEYRsZ",
        "colab_type": "code",
        "outputId": "fa8cbfd1-5ae5-44d0-9bc9-f4c8bca4e0d7",
        "colab": {
          "base_uri": "https://localhost:8080/",
          "height": 133
        }
      },
      "source": [
        "a = int(input('Введите целое число: '))\n",
        "i = 0\n",
        "while i <= a: \n",
        "  print(i)\n",
        "  i += 1"
      ],
      "execution_count": 1,
      "outputs": [
        {
          "output_type": "stream",
          "text": [
            "Введите целое число 5\n",
            "0\n",
            "1\n",
            "2\n",
            "3\n",
            "4\n",
            "5\n"
          ],
          "name": "stdout"
        }
      ]
    },
    {
      "cell_type": "code",
      "metadata": {
        "id": "ukqZRaffY185",
        "colab_type": "code",
        "colab": {}
      },
      "source": [
        "# Задача-2: Исходные значения двух переменных запросить у пользователя.\n",
        "# Поменять значения переменных местами. Вывести новые значения на экран.\n",
        "# Подсказка:\n",
        "# * постарайтесь сделать решение через дополнительную переменную \n",
        "#   или через арифметические действия\n",
        "# Не нужно решать задачу так:\n",
        "# print(\"a = \", b, \"b = \", a) - это неправильное решение!"
      ],
      "execution_count": 0,
      "outputs": []
    },
    {
      "cell_type": "code",
      "metadata": {
        "id": "DtfZbGL93i93",
        "colab_type": "code",
        "colab": {
          "base_uri": "https://localhost:8080/",
          "height": 66
        },
        "outputId": "ece05004-e782-4530-afd0-75b0dac3a0ad"
      },
      "source": [
        "a = int(input('Введите первое число: '))\n",
        "b = int(input('Введите второе число: '))\n",
        "a = a * b\n",
        "b = a / b\n",
        "a = a / b\n",
        "print('А теперь поменяем их местами: ', int(a), ',', int(b))"
      ],
      "execution_count": 2,
      "outputs": [
        {
          "output_type": "stream",
          "text": [
            "Введите первое число: 6\n",
            "Введите второе число: 9\n",
            "А теперь поменяем их местами:  9 , 6\n"
          ],
          "name": "stdout"
        }
      ]
    },
    {
      "cell_type": "code",
      "metadata": {
        "id": "8FWQobVDZTXL",
        "colab_type": "code",
        "colab": {}
      },
      "source": [
        "# Задача-3: Запросите у пользователя его возраст.\n",
        "# Если ему есть 18 лет, выведите: \"Доступ разрешен\",\n",
        "# иначе \"Извините, пользование данным ресурсом только с 18 лет\""
      ],
      "execution_count": 0,
      "outputs": []
    },
    {
      "cell_type": "code",
      "metadata": {
        "id": "1tjUg8R7cnBZ",
        "colab_type": "code",
        "outputId": "0ad6e76b-399b-49af-b958-53fb047d5303",
        "colab": {
          "base_uri": "https://localhost:8080/",
          "height": 50
        }
      },
      "source": [
        "age = input('Введите ваш возраст: ')\n",
        "if int(age) >= 18:\n",
        "  print('Доступ разрешен')\n",
        "else:\n",
        "  print('Извините, пользование данным ресурсом только с 18 лет')\n"
      ],
      "execution_count": 3,
      "outputs": [
        {
          "output_type": "stream",
          "text": [
            "Введите ваш возраст: 40\n",
            "Доступ разрешен\n"
          ],
          "name": "stdout"
        }
      ]
    },
    {
      "cell_type": "markdown",
      "metadata": {
        "id": "qgBKJsrR4ALC",
        "colab_type": "text"
      },
      "source": [
        "**Задание 2. Normal.**"
      ]
    },
    {
      "cell_type": "code",
      "metadata": {
        "id": "-aKYJoQ2aGc1",
        "colab_type": "code",
        "colab": {}
      },
      "source": [
        "# Задача-1: Дано произвольное целое число, вывести самую большую цифру этого числа.\n",
        "# Например, дается x = 58375.\n",
        "# Нужно вывести максимальную цифру в данном числе, т.е. 8.\n",
        "# Подразумевается, что мы не знаем это число заранее.\n",
        "# Число приходит в виде целого беззнакового.\n",
        "# Подсказки:\n",
        "# * постарайтесь решить задачу с применением арифметики и цикла while;\n",
        "# * при желании и понимании решите задачу с применением цикла for."
      ],
      "execution_count": 0,
      "outputs": []
    },
    {
      "cell_type": "code",
      "metadata": {
        "id": "7svLYINEa7JF",
        "colab_type": "code",
        "colab": {
          "base_uri": "https://localhost:8080/",
          "height": 66
        },
        "outputId": "572376c8-afcb-48f1-9dc0-777479e87c4f"
      },
      "source": [
        "#так было проще всего сделать, на мой взгляд:\n",
        "a = list(input('Введите целое число: '))\n",
        "print(max(a))"
      ],
      "execution_count": 6,
      "outputs": [
        {
          "output_type": "stream",
          "text": [
            "Введите целое число: 96837626\n",
            "['9', '6', '8', '3', '7', '6', '2', '6']\n",
            "9\n"
          ],
          "name": "stdout"
        }
      ]
    },
    {
      "cell_type": "code",
      "metadata": {
        "id": "cKRyLzbDffp2",
        "colab_type": "code",
        "colab": {
          "base_uri": "https://localhost:8080/",
          "height": 50
        },
        "outputId": "00d03c30-589f-463c-a248-9ad90f11bd11"
      },
      "source": [
        "#а так, если использовать цикл while:\n",
        "a = int(input('Введите целое число: '))\n",
        "max_number = a % 10\n",
        "a = a // 10\n",
        "while a > 0:\n",
        "    if a % 10 > max_number:\n",
        "        max_number = a % 10\n",
        "    a = a // 10\n",
        "print(max_number)"
      ],
      "execution_count": 7,
      "outputs": [
        {
          "output_type": "stream",
          "text": [
            "Введите целое число: 96357\n",
            "9\n"
          ],
          "name": "stdout"
        }
      ]
    },
    {
      "cell_type": "code",
      "metadata": {
        "id": "NIX4GFeBlhAK",
        "colab_type": "code",
        "colab": {}
      },
      "source": [
        "# Задача-2: Исходные значения двух переменных запросить у пользователя.\n",
        "# Поменять значения переменных местами. Вывести новые значения на экран.\n",
        "# Решите задачу, используя только две переменные.\n",
        "# Подсказки:\n",
        "# * постарайтесь сделать решение через действия над числами;\n",
        "# * при желании и понимании воспользуйтесь синтаксисом кортежей Python."
      ],
      "execution_count": 0,
      "outputs": []
    },
    {
      "cell_type": "code",
      "metadata": {
        "id": "FM2GaTizGPb3",
        "colab_type": "code",
        "colab": {
          "base_uri": "https://localhost:8080/",
          "height": 100
        },
        "outputId": "d90ff49f-5a9e-4e66-f9e7-d485a48c515e"
      },
      "source": [
        "a = (int(input('Введите первое число: ')),\n",
        "    int(input('Введите второе число: ')))\n",
        "print(a)\n",
        "b = a[::-1]\n",
        "print('А теперь поменяем их местами:\\n', b)"
      ],
      "execution_count": 41,
      "outputs": [
        {
          "output_type": "stream",
          "text": [
            "Введите первое число: 6\n",
            "Введите второе число: 3\n",
            "(6, 3)\n",
            "А теперь поменяем их местами:\n",
            " (3, 6)\n"
          ],
          "name": "stdout"
        }
      ]
    },
    {
      "cell_type": "code",
      "metadata": {
        "id": "5JXl1Bm1n160",
        "colab_type": "code",
        "colab": {}
      },
      "source": [
        "# Задача-3: Напишите программу, вычисляющую корни квадратного уравнения вида\n",
        "# ax² + bx + c = 0.\n",
        "# Коэффициенты уравнения вводятся пользователем.\n",
        "# Для вычисления квадратного корня воспользуйтесь функцией sqrt() модуля math:\n",
        "# import math\n",
        "# math.sqrt(4) - вычисляет корень числа 4"
      ],
      "execution_count": 0,
      "outputs": []
    },
    {
      "cell_type": "code",
      "metadata": {
        "id": "mPYnAsnXvnq1",
        "colab_type": "code",
        "colab": {
          "base_uri": "https://localhost:8080/",
          "height": 116
        },
        "outputId": "783e644c-eab2-4433-90fc-bb74b88c64b7"
      },
      "source": [
        "import math\n",
        "\n",
        "print('Введите коэффициенты для квадратного уравнения: ')\n",
        "a = float(input('Введите коэффициент a: '))\n",
        "b = float(input('Введите коэффициент b: '))\n",
        "c = float(input('Введите коэффициент c: '))\n",
        "\n",
        "d = b ** 2 - 4 * a * c\n",
        "print('Вычислим дискриминант: ', d)\n",
        "\n",
        "if d > 0:\n",
        "    x1 = (-b + math.sqrt(d)) / (2 * a)\n",
        "    x2 = (-b - math.sqrt(d)) / (2 * a)\n",
        "    print('Уравнение имеет два корня: ', [x1, x2])\n",
        "elif d == 0:\n",
        "    x = -b / 2 * a\n",
        "    print('Уравнение имеет один корень: ', x)\n",
        "else:\n",
        "    print('Уравнение не имеет действительных корней')"
      ],
      "execution_count": 29,
      "outputs": [
        {
          "output_type": "stream",
          "text": [
            "Введите коэффициенты для квадратного уравнения: \n",
            "Введите коэффициент a: 5\n",
            "Введите коэффициент b: 67\n",
            "Введите коэффициент c: 9\n",
            "Вычислим дискриминант:  4309.0\n",
            "Уравнение имеет два корня:  [-0.1357026270894764, -13.264297372910523]\n"
          ],
          "name": "stdout"
        }
      ]
    },
    {
      "cell_type": "markdown",
      "metadata": {
        "id": "JOoYd3js5JHh",
        "colab_type": "text"
      },
      "source": [
        "**Задание 3. Hard.**"
      ]
    },
    {
      "cell_type": "code",
      "metadata": {
        "id": "EUqfQtOu5H6N",
        "colab_type": "code",
        "colab": {}
      },
      "source": [
        "# Задание-1:\n",
        "# Ваня набрал несколько операций в интерпретаторе и получал результаты:\n",
        "# \tКод: a == a**2\n",
        "# \tРезультат: True\n",
        "# \tКод: a == a*2\n",
        "# \tРезультат: True\n",
        "# \tКод: a > 999999\n",
        "# \tРезультат: True\n",
        "\n",
        "# Вопрос: Чему была равна переменная a,\n",
        "# если точно известно, что её значение не изменялось?\n",
        "\n",
        "# Подсказка: это значение точно есть ;)"
      ],
      "execution_count": 0,
      "outputs": []
    },
    {
      "cell_type": "code",
      "metadata": {
        "id": "yO7layxN9e9a",
        "colab_type": "code",
        "colab": {}
      },
      "source": [
        "#Не очень поняла, что от меня требуется. Но число явно больше, чем 999999 - от 1000000 до бесконечности."
      ],
      "execution_count": 0,
      "outputs": []
    }
  ]
}
