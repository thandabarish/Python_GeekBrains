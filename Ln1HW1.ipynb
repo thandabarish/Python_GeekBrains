{
  "nbformat": 4,
  "nbformat_minor": 0,
  "metadata": {
    "colab": {
      "name": "Ln1HW1.ipynb",
      "version": "0.3.2",
      "provenance": [],
      "collapsed_sections": [],
      "include_colab_link": true
    },
    "kernelspec": {
      "name": "python3",
      "display_name": "Python 3"
    }
  },
  "cells": [
    {
      "cell_type": "markdown",
      "metadata": {
        "id": "view-in-github",
        "colab_type": "text"
      },
      "source": [
        "<a href=\"https://colab.research.google.com/github/thandabarish/Python_GeekBrains/blob/master/Ln1HW1.ipynb\" target=\"_parent\"><img src=\"https://colab.research.google.com/assets/colab-badge.svg\" alt=\"Open In Colab\"/></a>"
      ]
    },
    {
      "cell_type": "markdown",
      "metadata": {
        "id": "dv0UXDba32Mc",
        "colab_type": "text"
      },
      "source": [
        "**Задание 1. Easy**"
      ]
    },
    {
      "cell_type": "code",
      "metadata": {
        "id": "d1eHRPiYCOQB",
        "colab_type": "code",
        "outputId": "66a44146-2ee0-4b2b-d3ac-c0515a69b74d",
        "colab": {
          "base_uri": "https://localhost:8080/",
          "height": 33
        }
      },
      "source": [
        "a = 3\n",
        "b = a + 5\n",
        "print(b)"
      ],
      "execution_count": 0,
      "outputs": [
        {
          "output_type": "stream",
          "text": [
            "8\n"
          ],
          "name": "stdout"
        }
      ]
    },
    {
      "cell_type": "code",
      "metadata": {
        "id": "MmRp-nc1DEYB",
        "colab_type": "code",
        "outputId": "870f817c-c796-4fcd-967a-aeece86d33fc",
        "colab": {
          "base_uri": "https://localhost:8080/",
          "height": 33
        }
      },
      "source": [
        "p = 3.14\n",
        "r = 44\n",
        "s = p * (r**2)\n",
        "print(s)\n"
      ],
      "execution_count": 0,
      "outputs": [
        {
          "output_type": "stream",
          "text": [
            "6079.04\n"
          ],
          "name": "stdout"
        }
      ]
    },
    {
      "cell_type": "code",
      "metadata": {
        "id": "YwQeS3FUXkZa",
        "colab_type": "code",
        "outputId": "d67ffef0-0cbe-4cf1-fe55-e131423d469d",
        "colab": {
          "base_uri": "https://localhost:8080/",
          "height": 50
        }
      },
      "source": [
        "name = input('Как вас зовут? ')\n",
        "print('Здравствуйте,', name)"
      ],
      "execution_count": 0,
      "outputs": [
        {
          "output_type": "stream",
          "text": [
            "Как вас зовут? Nina\n",
            "Здравствуйте, Nina\n"
          ],
          "name": "stdout"
        }
      ]
    },
    {
      "cell_type": "code",
      "metadata": {
        "id": "tc_BsrQEYRsZ",
        "colab_type": "code",
        "outputId": "7dbb4bfa-30bb-4260-c30c-da84a092509a",
        "colab": {
          "base_uri": "https://localhost:8080/",
          "height": 50
        }
      },
      "source": [
        "a = input('Введите целое число ')\n",
        "print(int(a) + 2)"
      ],
      "execution_count": 0,
      "outputs": [
        {
          "output_type": "stream",
          "text": [
            "Введите целое число 5\n",
            "7\n"
          ],
          "name": "stdout"
        }
      ]
    },
    {
      "cell_type": "code",
      "metadata": {
        "id": "1tjUg8R7cnBZ",
        "colab_type": "code",
        "outputId": "f3fb4577-8468-49f9-91ac-0cfd8aa4553a",
        "colab": {
          "base_uri": "https://localhost:8080/",
          "height": 50
        }
      },
      "source": [
        "age = input('Введите ваш возраст ')\n",
        "if int(age) >= 18:\n",
        "  print('Доступ разрешен')\n",
        "else:\n",
        "  print('Извините, доступ к ресурсу разрешен только с 18 лет')\n"
      ],
      "execution_count": 0,
      "outputs": [
        {
          "output_type": "stream",
          "text": [
            "Введите ваш возраст45\n",
            "Доступ разрешен\n"
          ],
          "name": "stdout"
        }
      ]
    },
    {
      "cell_type": "markdown",
      "metadata": {
        "id": "qgBKJsrR4ALC",
        "colab_type": "text"
      },
      "source": [
        "**Задание 2. Normal.**"
      ]
    },
    {
      "cell_type": "code",
      "metadata": {
        "id": "bqWIRygd3iF5",
        "colab_type": "code",
        "colab": {}
      },
      "source": [
        "i = 0\n",
        "a = int(input('Введите целое число '))\n",
        "if a < 0 or a > 10:\n",
        "  while True:\n",
        "    i += 1\n",
        "    if i <= 3:\n",
        "      a = int(input('Введите другое число '))\n",
        "    else:\n",
        "      a = int(input('Нет, давайте это будет число от 0 до 10 '))\n",
        "      print(a ** 2)\n",
        "      break\n",
        "else:\n",
        "  print(a ** 2)"
      ],
      "execution_count": 0,
      "outputs": []
    },
    {
      "cell_type": "code",
      "metadata": {
        "id": "DtfZbGL93i93",
        "colab_type": "code",
        "colab": {}
      },
      "source": [
        "a = int(input('Введите первое число '))\n",
        "b = int(input('Введите второе число '))\n",
        "a = a * b\n",
        "b = a / b\n",
        "a = a / b\n",
        "print('А теперь поменяем их местами: ', int(a), ',', int(b))"
      ],
      "execution_count": 0,
      "outputs": []
    },
    {
      "cell_type": "markdown",
      "metadata": {
        "id": "JOoYd3js5JHh",
        "colab_type": "text"
      },
      "source": [
        "**Задание 3. Hard.**"
      ]
    },
    {
      "cell_type": "code",
      "metadata": {
        "id": "EUqfQtOu5H6N",
        "colab_type": "code",
        "colab": {
          "base_uri": "https://localhost:8080/",
          "height": 116
        },
        "outputId": "f1069df2-7ff3-4611-ce70-ef75ad676daa"
      },
      "source": [
        "print('Здравствуйте! Вас приветствует программа базового медицинского анкетирования.')\n",
        "surname = input('Введите вашу фамилию: ')\n",
        "name = input('Введите ваше имя: ')\n",
        "age = int(input('Введите ваш возраст: '))\n",
        "weight = int(input('Введите ваш вес: '))\n",
        "if age <= 30 and weight >= 50 and weight < 120:\n",
        "  print('Вы в хорошем состоянии!')\n",
        "elif age > 30 and weight >= 50 and weight < 120:\n",
        "  print('Вам стоит начать вести правильный образ жизни!')\n",
        "elif age > 30 and weight < 50 or weight >= 120:\n",
        "  print('Вам следует заняться собой!')\n",
        "elif age >= 40 and weight < 50 or weight >= 120:\n",
        "  pint('Вам требуется врачебный осмотр!')"
      ],
      "execution_count": 4,
      "outputs": [
        {
          "output_type": "stream",
          "text": [
            "Здравствуйте! Вас приветствует программа базового медицинского анкетирования.\n",
            "Введите вашу фамилию: Незнанова\n",
            "Введите ваше имя: Нина\n",
            "Введите ваш возраст: 40\n",
            "Введите ваш вес: 59\n",
            "Вам стоит начать вести правильный образ жизни!\n"
          ],
          "name": "stdout"
        }
      ]
    }
  ]
}